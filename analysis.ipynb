{
 "cells": [
  {
   "cell_type": "code",
   "execution_count": null,
   "id": "386f259a",
   "metadata": {
    "execution": {
     "iopub.execute_input": "2022-10-18T15:29:46.082399Z",
     "iopub.status.busy": "2022-10-18T15:29:46.081875Z",
     "iopub.status.idle": "2022-10-18T15:29:46.697360Z",
     "shell.execute_reply": "2022-10-18T15:29:46.696711Z"
    }
   },
   "outputs": [],
   "source": [
    "import pandas as pd\n",
    "import seaborn as sns\n",
    "import os\n"
   ]
  },
  {
   "cell_type": "code",
   "execution_count": null,
   "id": "4b2707d6",
   "metadata": {
    "execution": {
     "iopub.execute_input": "2022-10-18T15:29:46.700792Z",
     "iopub.status.busy": "2022-10-18T15:29:46.700429Z",
     "iopub.status.idle": "2022-10-18T15:29:46.734885Z",
     "shell.execute_reply": "2022-10-18T15:29:46.734445Z"
    }
   },
   "outputs": [],
   "source": [
    "dfs = []\n",
    "\n",
    "bench_dir = \"bench/etcd\"\n",
    "\n",
    "for store_config in os.listdir(bench_dir):\n",
    "    print(f\"processing {store_config}\")\n",
    "    parts = store_config.split(\",\")\n",
    "    config = {}\n",
    "    for part in parts:\n",
    "        kv = part.split(\"=\")\n",
    "        config[kv[0]] = kv[1]\n",
    "\n",
    "    store = config[\"store\"]\n",
    "    tls = config[\"tls\"] == \"True\"\n",
    "    enclave = \"sgx\" if config[\"sgx\"] == \"True\" else \"virtual\"\n",
    "    worker_threads = int(config[\"worker_threads\"])\n",
    "    clients = int(config[\"clients\"])\n",
    "    connections = int(config[\"connections\"])\n",
    "    prefill_num_keys = int(config[\"prefill_num_keys\"])\n",
    "    prefill_value_size = int(config[\"prefill_value_size\"])\n",
    "    rate = int(config[\"rate\"])\n",
    "    total = int(config[\"total\"])\n",
    "    cmd = config[\"bench_args\"]\n",
    "\n",
    "    file = os.path.join(bench_dir, store_config, \"timings.csv\")\n",
    "    if not os.path.exists(file):\n",
    "        continue\n",
    "    df = pd.read_csv(file)\n",
    "    # fix csv files not being fully complete\n",
    "    df = df[df[\"start_micros\"] > 1666000000000000]\n",
    "    start = df[\"start_micros\"].min()\n",
    "\n",
    "    df[\"start_micros\"] -= start\n",
    "    df[\"start_ms\"] = df[\"start_micros\"] / 1000\n",
    "    df.drop([\"start_micros\"], axis=1, inplace=True)\n",
    "    df[\"end_micros\"] -= start\n",
    "    df[\"end_ms\"] = df[\"end_micros\"] / 1000\n",
    "    df.drop([\"end_micros\"], axis=1, inplace=True)\n",
    "    df[\"latency_ms\"] = df[\"end_ms\"] - df[\"start_ms\"]\n",
    "    df[\"cmd\"] = cmd\n",
    "    df[\"store\"] = store\n",
    "    df[\"tls\"] = tls\n",
    "    df[\"enclave\"] = enclave\n",
    "    df[\"worker_threads\"] = worker_threads\n",
    "    df[\"clients\"] = clients\n",
    "    df[\"connections\"] = connections\n",
    "    df[\"prefill_num_keys\"] = prefill_num_keys\n",
    "    df[\"prefill_value_size\"] = prefill_value_size\n",
    "    df[\"rate\"] = rate\n",
    "    df[\"total\"] = total\n",
    "    dfs.append(df)\n",
    "\n",
    "all_data = pd.concat(dfs, ignore_index=True)\n",
    "all_data.head()\n"
   ]
  },
  {
   "cell_type": "code",
   "execution_count": null,
   "id": "d62e67d7",
   "metadata": {
    "execution": {
     "iopub.execute_input": "2022-10-18T15:29:46.737868Z",
     "iopub.status.busy": "2022-10-18T15:29:46.737408Z",
     "iopub.status.idle": "2022-10-18T15:29:46.744962Z",
     "shell.execute_reply": "2022-10-18T15:29:46.744560Z"
    }
   },
   "outputs": [],
   "source": [
    "all_data[all_data.latency_ms < 0]\n"
   ]
  },
  {
   "cell_type": "code",
   "execution_count": null,
   "id": "a2da46f1",
   "metadata": {
    "execution": {
     "iopub.execute_input": "2022-10-18T15:29:46.747087Z",
     "iopub.status.busy": "2022-10-18T15:29:46.746780Z",
     "iopub.status.idle": "2022-10-18T15:29:46.752023Z",
     "shell.execute_reply": "2022-10-18T15:29:46.751616Z"
    }
   },
   "outputs": [],
   "source": [
    "all_data = all_data[all_data.latency_ms >= 0]\n"
   ]
  },
  {
   "cell_type": "code",
   "execution_count": null,
   "id": "9c6f2b33",
   "metadata": {
    "execution": {
     "iopub.execute_input": "2022-10-18T15:29:46.754196Z",
     "iopub.status.busy": "2022-10-18T15:29:46.753912Z",
     "iopub.status.idle": "2022-10-18T15:29:46.758177Z",
     "shell.execute_reply": "2022-10-18T15:29:46.757766Z"
    }
   },
   "outputs": [],
   "source": [
    "def merged_variable_columns_without(all_data, without):\n",
    "    all_columns = list(all_data.columns)\n",
    "    data_columns = [\"start_ms\", \"start_s\", \"end_ms\", \"latency_ms\"]\n",
    "    # variable columns are all the ones left\n",
    "    variable_columns = [c for c in all_columns if c not in data_columns]\n",
    "    remaining_columns = [c for c in variable_columns if c not in without]\n",
    "\n",
    "    def make_new_column(name):\n",
    "        if name == \"store\":\n",
    "            return all_data[name].astype(str)\n",
    "        elif name == \"tls\":\n",
    "            return all_data[name].map(lambda t: \"tls\" if t else \"notls\")\n",
    "        else:\n",
    "            return f\"{name}=\" + all_data[name].astype(str)\n",
    "\n",
    "    invariant_columns = []\n",
    "    variant_columns = []\n",
    "    for c in remaining_columns:\n",
    "        data = all_data[c]\n",
    "        if len(set(data)) == 1:\n",
    "            n = make_new_column(c)\n",
    "            invariant_columns.append(n.iat[0])\n",
    "        else:\n",
    "            variant_columns.append(c)\n",
    "\n",
    "    variant_column = pd.Series()\n",
    "    num_cols = len(variant_columns)\n",
    "    for i, c in enumerate(variant_columns):\n",
    "        n = make_new_column(c)\n",
    "        if num_cols != i + 1:\n",
    "            n = n + \",\"\n",
    "        if i != 0:\n",
    "            n = variant_column + n\n",
    "        variant_column = n\n",
    "\n",
    "    return variant_column, invariant_columns\n"
   ]
  },
  {
   "cell_type": "code",
   "execution_count": null,
   "id": "3db649ca",
   "metadata": {
    "execution": {
     "iopub.execute_input": "2022-10-18T15:29:46.760168Z",
     "iopub.status.busy": "2022-10-18T15:29:46.759783Z",
     "iopub.status.idle": "2022-10-18T15:29:46.763756Z",
     "shell.execute_reply": "2022-10-18T15:29:46.763062Z"
    }
   },
   "outputs": [],
   "source": [
    "all_data[\"start_s\"] = all_data[\"start_ms\"] / 1000\n"
   ]
  },
  {
   "cell_type": "code",
   "execution_count": null,
   "id": "d9d6b524",
   "metadata": {
    "execution": {
     "iopub.execute_input": "2022-10-18T15:29:46.766760Z",
     "iopub.status.busy": "2022-10-18T15:29:46.766428Z",
     "iopub.status.idle": "2022-10-18T15:29:46.777711Z",
     "shell.execute_reply": "2022-10-18T15:29:46.777284Z"
    }
   },
   "outputs": [],
   "source": [
    "all_data\n"
   ]
  },
  {
   "cell_type": "code",
   "execution_count": null,
   "id": "8859bc71",
   "metadata": {
    "execution": {
     "iopub.execute_input": "2022-10-18T15:29:46.779893Z",
     "iopub.status.busy": "2022-10-18T15:29:46.779639Z",
     "iopub.status.idle": "2022-10-18T15:29:46.782186Z",
     "shell.execute_reply": "2022-10-18T15:29:46.781766Z"
    }
   },
   "outputs": [],
   "source": [
    "# make the plots dir\n",
    "os.makedirs(\"plots/etcd\", exist_ok=True)\n"
   ]
  },
  {
   "cell_type": "code",
   "execution_count": null,
   "id": "0a574dd0",
   "metadata": {},
   "outputs": [],
   "source": [
    "def plot_scatter(data, x=\"start_s\", y=\"latency_ms\", row=\"\",col=\"\" ,ignore_vars=[], filename=\"\"):\n",
    "    hue = \"vars\"\n",
    "\n",
    "    var, invariant_vars = merged_variable_columns_without(\n",
    "        data, [x, y, row, col, hue] + ignore_vars\n",
    "    )\n",
    "    data[hue] = var\n",
    "\n",
    "    p = sns.relplot(\n",
    "        kind=\"scatter\",\n",
    "        data=data,\n",
    "        x=x,\n",
    "        y=y,\n",
    "        row=row,\n",
    "        col=col,\n",
    "        hue=hue,\n",
    "        alpha=0.5,\n",
    "    )\n",
    "\n",
    "    p.figure.subplots_adjust(top=0.9)\n",
    "    p.figure.suptitle(\",\".join(invariant_vars))\n",
    "\n",
    "    # add tick labels to each x axis\n",
    "    for ax in p.axes.flatten():\n",
    "        ax.tick_params(labelbottom=True)\n",
    "\n",
    "    #     ax.set_xlim([20,21])\n",
    "\n",
    "    if not filename:\n",
    "        filename = f\"scatter-{x}-{y}-{row}-{col}-{hue}\"\n",
    "\n",
    "    p.savefig(f\"plots/etcd/{filename}.svg\")\n",
    "    p.savefig(f\"plots/etcd/{filename}.jpg\")\n",
    "\n",
    "    return p\n"
   ]
  },
  {
   "cell_type": "code",
   "execution_count": null,
   "id": "9cbbe238",
   "metadata": {},
   "outputs": [],
   "source": [
    "plot_data = all_data.copy(deep=False)\n",
    "plot_data = plot_data[plot_data[\"cmd\"] == \"put\"]\n",
    "plot_data = plot_data[plot_data[\"connections\"] == 1]\n",
    "plot_data = plot_data[plot_data[\"clients\"] == 1]\n",
    "\n",
    "p = plot_scatter(plot_data, row=\"rate\", col=\"worker_threads\", ignore_vars=[\"total\"])\n"
   ]
  },
  {
   "cell_type": "code",
   "execution_count": null,
   "id": "31f10338",
   "metadata": {},
   "outputs": [],
   "source": [
    "plot_data = all_data.copy(deep=False)\n",
    "plot_data = plot_data[plot_data[\"cmd\"] == \"range_0000_1000\"]\n",
    "plot_data = plot_data[plot_data[\"connections\"] == 1]\n",
    "plot_data = plot_data[plot_data[\"clients\"] == 1]\n",
    "\n",
    "p = plot_scatter(plot_data, row=\"rate\", col=\"worker_threads\", ignore_vars=[\"total\"])\n"
   ]
  },
  {
   "cell_type": "code",
   "execution_count": null,
   "id": "55f81bb7",
   "metadata": {},
   "outputs": [],
   "source": [
    "plot_data = all_data.copy(deep=False)\n",
    "plot_data = plot_data[plot_data[\"cmd\"] == \"put\"]\n",
    "plot_data = plot_data[plot_data[\"worker_threads\"] <= 1]\n",
    "plot_data = plot_data[plot_data[\"rate\"] == 100]\n",
    "\n",
    "p = plot_scatter(plot_data, row=\"clients\", col=\"connections\")\n"
   ]
  },
  {
   "cell_type": "code",
   "execution_count": null,
   "id": "cfe3132d",
   "metadata": {},
   "outputs": [],
   "source": [
    "plot_data = all_data.copy(deep=False)\n",
    "plot_data = plot_data[plot_data[\"cmd\"] == \"put\"]\n",
    "plot_data = plot_data[plot_data[\"worker_threads\"] <= 1]\n",
    "plot_data = plot_data[plot_data[\"clients\"] == 10]\n",
    "plot_data = plot_data[plot_data[\"connections\"] >= 10]\n",
    "# plot_data = plot_data[plot_data[\"enclave\"] == \"virtual\"]\n",
    "\n",
    "p = plot_scatter(plot_data, row=\"connections\", col=\"rate\", ignore_vars=[\"total\"])\n"
   ]
  },
  {
   "cell_type": "code",
   "execution_count": null,
   "id": "df402edd",
   "metadata": {
    "execution": {
     "iopub.execute_input": "2022-10-18T15:29:49.262360Z",
     "iopub.status.busy": "2022-10-18T15:29:49.261986Z",
     "iopub.status.idle": "2022-10-18T15:29:49.727868Z",
     "shell.execute_reply": "2022-10-18T15:29:49.727422Z"
    }
   },
   "outputs": [],
   "source": [
    "plot_data = all_data.copy(deep=False)\n",
    "plot_data = plot_data[plot_data[\"cmd\"] == \"put\"]\n",
    "plot_data[\"vars\"], invariant_vars = merged_variable_columns_without(\n",
    "    all_data, [\"rate\", \"worker_threads\"]\n",
    ")\n",
    "\n",
    "p = sns.displot(\n",
    "    kind=\"ecdf\",\n",
    "    data=plot_data,\n",
    "    x=\"latency_ms\",\n",
    "    row=\"rate\",\n",
    "    col=\"worker_threads\",\n",
    "    hue=\"vars\",\n",
    ")\n",
    "\n",
    "p.figure.subplots_adjust(top=0.8)\n",
    "p.figure.suptitle(\",\".join(invariant_vars))\n",
    "\n",
    "# add tick labels to each x axis\n",
    "for ax in p.axes.flatten():\n",
    "    ax.tick_params(labelbottom=True)\n",
    "\n",
    "p.savefig(\"plots/ecdf.svg\")\n",
    "p.savefig(\"plots/ecdf.jpg\")\n"
   ]
  },
  {
   "cell_type": "code",
   "execution_count": null,
   "id": "355b55d2",
   "metadata": {
    "execution": {
     "iopub.execute_input": "2022-10-18T15:29:49.730498Z",
     "iopub.status.busy": "2022-10-18T15:29:49.730132Z",
     "iopub.status.idle": "2022-10-18T15:29:50.097606Z",
     "shell.execute_reply": "2022-10-18T15:29:50.097135Z"
    }
   },
   "outputs": [],
   "source": [
    "plot_data = all_data.copy(deep=False)\n",
    "plot_data = plot_data[plot_data[\"cmd\"] == \"put\"]\n",
    "plot_data = plot_data[plot_data[\"worker_threads\"] <= 1]\n",
    "plot_data = plot_data[plot_data[\"clients\"] == 10]\n",
    "plot_data = plot_data[plot_data[\"connections\"] == 10]\n",
    "plot_data[\"vars\"], invariant_vars = merged_variable_columns_without(\n",
    "    all_data, [\"rate\", \"prefill_num_keys\", \"rate\", \"total\"]\n",
    ")\n",
    "\n",
    "grouped = plot_data.groupby([\"vars\", \"prefill_num_keys\", \"total\"])\n",
    "throughputs = grouped.first()\n",
    "\n",
    "durations = (grouped[\"end_ms\"].max() - grouped[\"start_ms\"].min()) / 1000\n",
    "counts = grouped[\"start_ms\"].count()\n",
    "achieved_throughput = counts / durations\n",
    "throughputs[\"achieved_throughput_ratio\"] = achieved_throughput / throughputs[\"rate\"]\n",
    "\n",
    "throughputs.reset_index(inplace=True)\n",
    "\n",
    "p = sns.catplot(\n",
    "    kind=\"bar\",\n",
    "    data=throughputs,\n",
    "    x=\"rate\",\n",
    "    y=\"achieved_throughput_ratio\",\n",
    "    # row=\"rate\",\n",
    "    col=\"prefill_num_keys\",\n",
    "    hue=\"vars\",\n",
    ")\n",
    "\n",
    "p.figure.subplots_adjust(top=0.8)\n",
    "p.figure.suptitle(\",\".join(invariant_vars))\n",
    "\n",
    "# add tick labels to each x axis\n",
    "for ax in p.axes.flatten():\n",
    "    ax.tick_params(labelbottom=True)\n",
    "\n",
    "p.savefig(\"plots/throughput.svg\")\n",
    "p.savefig(\"plots/throughput.jpg\")\n"
   ]
  }
 ],
 "metadata": {
  "kernelspec": {
   "display_name": "Python 3.8.10 ('.venv': venv)",
   "language": "python",
   "name": "python3"
  },
  "language_info": {
   "codemirror_mode": {
    "name": "ipython",
    "version": 3
   },
   "file_extension": ".py",
   "mimetype": "text/x-python",
   "name": "python",
   "nbconvert_exporter": "python",
   "pygments_lexer": "ipython3",
   "version": "3.8.10"
  },
  "vscode": {
   "interpreter": {
    "hash": "4db87498792d854cc0710846eefabcd930f66afdd24de6bbdfbeb8967a3823b4"
   }
  }
 },
 "nbformat": 4,
 "nbformat_minor": 5
}
