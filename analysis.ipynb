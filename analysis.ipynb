{
 "cells": [
  {
   "cell_type": "code",
   "execution_count": null,
   "id": "386f259a",
   "metadata": {},
   "outputs": [],
   "source": [
    "import pandas as pd\n",
    "import seaborn as sns\n",
    "import os\n"
   ]
  },
  {
   "cell_type": "code",
   "execution_count": null,
   "id": "4b2707d6",
   "metadata": {},
   "outputs": [],
   "source": [
    "dfs = []\n",
    "\n",
    "bench_dir = \"bench\"\n",
    "\n",
    "for cmd in os.listdir(bench_dir):\n",
    "    for store_config in os.listdir(os.path.join(bench_dir, cmd)):\n",
    "        print(f\"processing {cmd}/{store_config}\")\n",
    "        parts = store_config.split(\",\")\n",
    "        config = {}\n",
    "        for part in parts:\n",
    "            kv = part.split(\"=\")\n",
    "            config[kv[0]] = kv[1]\n",
    "\n",
    "        store = config[\"name\"]\n",
    "        tls = config[\"tls\"] == \"True\"\n",
    "        enclave = \"sgx\" if config[\"sgx\"] == \"True\" else \"virtual\"\n",
    "        worker_threads = int(config[\"worker_threads\"])\n",
    "        clients = int(config[\"clients\"])\n",
    "        connections = int(config[\"connections\"])\n",
    "\n",
    "        file = os.path.join(bench_dir, cmd, store_config, \"timings.csv\")\n",
    "        if not os.path.exists(file):\n",
    "            continue\n",
    "        df = pd.read_csv(file)\n",
    "        start = df[\"start_micros\"].min()\n",
    "        df[\"start_micros\"] -= start\n",
    "        df[\"start_ms\"] = df[\"start_micros\"] / 1000\n",
    "        df.drop([\"start_micros\"], axis=1, inplace=True)\n",
    "        df[\"end_micros\"] -= start\n",
    "        df[\"end_ms\"] = df[\"end_micros\"] / 1000\n",
    "        df.drop([\"end_micros\"], axis=1, inplace=True)\n",
    "        df[\"latency_ms\"] = df[\"end_ms\"] - df[\"start_ms\"]\n",
    "        df[\"cmd\"] = cmd\n",
    "        df[\"store\"] = store\n",
    "        df[\"tls\"] = tls\n",
    "        df[\"enclave\"] = enclave\n",
    "        df[\"worker_threads\"] = worker_threads\n",
    "        df[\"clients\"] = clients\n",
    "        df[\"connections\"] = connections\n",
    "        dfs.append(df)\n",
    "\n",
    "all_data = pd.concat(dfs, ignore_index=True)\n",
    "all_data.head()\n"
   ]
  },
  {
   "cell_type": "code",
   "execution_count": null,
   "id": "d62e67d7",
   "metadata": {},
   "outputs": [],
   "source": [
    "all_data[all_data.latency_ms < 0]\n"
   ]
  },
  {
   "cell_type": "code",
   "execution_count": null,
   "id": "a2da46f1",
   "metadata": {},
   "outputs": [],
   "source": [
    "all_data = all_data[all_data.latency_ms >= 0]\n",
    "all_data = all_data[all_data.latency_ms < 500]\n"
   ]
  },
  {
   "cell_type": "code",
   "execution_count": null,
   "id": "0d849a5e",
   "metadata": {},
   "outputs": [],
   "source": [
    "all_data[\"other_vars\"] = (\n",
    "    all_data[\"store\"]\n",
    "    + \"_\"\n",
    "    + all_data[\"tls\"].map(lambda t: \"tls\" if t else \"plain\")\n",
    "    + \"_workers=\"\n",
    "    + all_data[\"worker_threads\"].map(str)\n",
    "    + \"_clients=\"\n",
    "    + all_data[\"clients\"].map(str)\n",
    "    + \"_conns=\"\n",
    "    + all_data[\"connections\"].map(str)\n",
    ")\n"
   ]
  },
  {
   "cell_type": "code",
   "execution_count": null,
   "id": "3db649ca",
   "metadata": {},
   "outputs": [],
   "source": [
    "all_data[\"start_s\"] = all_data[\"start_ms\"] / 1000\n"
   ]
  },
  {
   "cell_type": "code",
   "execution_count": null,
   "id": "d9d6b524",
   "metadata": {},
   "outputs": [],
   "source": [
    "all_data\n"
   ]
  },
  {
   "cell_type": "code",
   "execution_count": null,
   "id": "8859bc71",
   "metadata": {},
   "outputs": [],
   "source": [
    "# make the plots dir\n",
    "os.makedirs(\"plots\", exist_ok=True)\n"
   ]
  },
  {
   "cell_type": "code",
   "execution_count": null,
   "id": "cfe3132d",
   "metadata": {},
   "outputs": [],
   "source": [
    "p = sns.relplot(\n",
    "    kind=\"scatter\",\n",
    "    data=all_data,\n",
    "    x=\"start_s\",\n",
    "    y=\"latency_ms\",\n",
    "    row=\"cmd\",\n",
    "    col=\"enclave\",\n",
    "    hue=\"other_vars\",\n",
    "    alpha=0.5,\n",
    ")\n",
    "\n",
    "# add tick labels to each x axis\n",
    "for ax in p.axes.flatten():\n",
    "    ax.tick_params(labelbottom=True)\n",
    "\n",
    "#     ax.set_xlim([20,21])\n",
    "\n",
    "p.savefig(\"plots/scatter.svg\")\n"
   ]
  },
  {
   "cell_type": "code",
   "execution_count": null,
   "id": "df402edd",
   "metadata": {},
   "outputs": [],
   "source": [
    "p = sns.displot(\n",
    "    kind=\"ecdf\",\n",
    "    data=all_data,\n",
    "    x=\"latency_ms\",\n",
    "    row=\"cmd\",\n",
    "    col=\"enclave\",\n",
    "    hue=\"other_vars\",\n",
    ")\n",
    "\n",
    "# add tick labels to each x axis\n",
    "for ax in p.axes.flatten():\n",
    "    ax.tick_params(labelbottom=True)\n",
    "\n",
    "p.savefig(\"plots/ecdf.svg\")\n"
   ]
  }
 ],
 "metadata": {
  "kernelspec": {
   "display_name": "Python 3.8.10 ('.venv': venv)",
   "language": "python",
   "name": "python3"
  },
  "language_info": {
   "codemirror_mode": {
    "name": "ipython",
    "version": 3
   },
   "file_extension": ".py",
   "mimetype": "text/x-python",
   "name": "python",
   "nbconvert_exporter": "python",
   "pygments_lexer": "ipython3",
   "version": "3.8.10"
  },
  "vscode": {
   "interpreter": {
    "hash": "26d524bf7443e0f40e08f10ed2d9eb0c2ad7fe4b84342496a5791322e309eff4"
   }
  }
 },
 "nbformat": 4,
 "nbformat_minor": 5
}
