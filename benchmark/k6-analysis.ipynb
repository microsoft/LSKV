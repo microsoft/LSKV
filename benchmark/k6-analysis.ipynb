{
 "cells": [
  {
   "cell_type": "code",
   "execution_count": null,
   "metadata": {},
   "outputs": [],
   "source": [
    "import pandas as pd\n",
    "import seaborn as sns\n",
    "import os\n",
    "import analysis\n"
   ]
  },
  {
   "cell_type": "code",
   "execution_count": null,
   "metadata": {},
   "outputs": [],
   "source": [
    "analyser = analysis.Analyser(\"k6\")\n",
    "all_data = analyser.get_data()\n",
    "all_data\n"
   ]
  },
  {
   "cell_type": "code",
   "execution_count": null,
   "metadata": {},
   "outputs": [],
   "source": [
    "req_duration_data = all_data[all_data[\"metric_name\"] == \"http_req_duration\"]\n",
    "req_duration_data.columns\n"
   ]
  },
  {
   "cell_type": "code",
   "execution_count": null,
   "metadata": {},
   "outputs": [],
   "source": [
    "ignore_vars = [\n",
    "    \"metric_name\",\n",
    "    \"metric_value\",\n",
    "    \"service\",\n",
    "    \"subproto\",\n",
    "    \"proto\",\n",
    "    \"scenario\",\n",
    "    \"status\",\n",
    "    \"tls_version\",\n",
    "    \"url\",\n",
    "    \"name\",\n",
    "    \"extra_tags\",\n",
    "    \"metadata\",\n",
    "    \"check\",\n",
    "    \"error\",\n",
    "    \"error_code\",\n",
    "    \"expected_response\",\n",
    "    \"group\",\n",
    "    \"method\",\n",
    "]\n"
   ]
  },
  {
   "cell_type": "code",
   "execution_count": null,
   "metadata": {},
   "outputs": [],
   "source": [
    "plot_data = req_duration_data.copy(deep=False)\n",
    "analyser.plot_scatter(plot_data, ignore_vars=ignore_vars)\n"
   ]
  },
  {
   "cell_type": "code",
   "execution_count": null,
   "metadata": {},
   "outputs": [],
   "source": [
    "plot_data = req_duration_data.copy(deep=False)\n",
    "analyser.plot_ecdf(plot_data, ignore_vars=ignore_vars)\n"
   ]
  }
 ],
 "metadata": {
  "kernelspec": {
   "display_name": "Python 3.8.10 ('.venv': venv)",
   "language": "python",
   "name": "python3"
  },
  "language_info": {
   "codemirror_mode": {
    "name": "ipython",
    "version": 3
   },
   "file_extension": ".py",
   "mimetype": "text/x-python",
   "name": "python",
   "nbconvert_exporter": "python",
   "pygments_lexer": "ipython3",
   "version": "3.8.10"
  },
  "vscode": {
   "interpreter": {
    "hash": "4db87498792d854cc0710846eefabcd930f66afdd24de6bbdfbeb8967a3823b4"
   }
  }
 },
 "nbformat": 4,
 "nbformat_minor": 2
}
