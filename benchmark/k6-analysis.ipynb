{
 "cells": [
  {
   "cell_type": "code",
   "execution_count": null,
   "metadata": {
    "execution": {
     "iopub.execute_input": "2022-12-16T09:24:25.209008Z",
     "iopub.status.busy": "2022-12-16T09:24:25.208739Z",
     "iopub.status.idle": "2022-12-16T09:24:26.056356Z",
     "shell.execute_reply": "2022-12-16T09:24:26.055762Z"
    }
   },
   "outputs": [],
   "source": [
    "import pandas as pd\n",
    "import seaborn as sns\n",
    "import os\n",
    "import analysis"
   ]
  },
  {
   "cell_type": "code",
   "execution_count": null,
   "metadata": {
    "execution": {
     "iopub.execute_input": "2022-12-16T09:24:26.059621Z",
     "iopub.status.busy": "2022-12-16T09:24:26.059005Z",
     "iopub.status.idle": "2022-12-16T09:24:27.684800Z",
     "shell.execute_reply": "2022-12-16T09:24:27.684375Z"
    }
   },
   "outputs": [],
   "source": [
    "analyser = analysis.Analyser(\"k6\")\n",
    "all_data = analyser.get_data()\n",
    "all_data"
   ]
  },
  {
   "cell_type": "code",
   "execution_count": null,
   "metadata": {
    "execution": {
     "iopub.execute_input": "2022-12-16T09:24:27.687490Z",
     "iopub.status.busy": "2022-12-16T09:24:27.687144Z",
     "iopub.status.idle": "2022-12-16T09:24:28.012047Z",
     "shell.execute_reply": "2022-12-16T09:24:28.011609Z"
    }
   },
   "outputs": [],
   "source": [
    "req_duration_data = all_data[\n",
    "    all_data[\"metric_name\"].isin([\"http_req_duration\", \"grpc_req_duration\"])\n",
    "]\n",
    "req_duration_data.columns"
   ]
  },
  {
   "cell_type": "code",
   "execution_count": null,
   "metadata": {
    "execution": {
     "iopub.execute_input": "2022-12-16T09:24:28.014402Z",
     "iopub.status.busy": "2022-12-16T09:24:28.013995Z",
     "iopub.status.idle": "2022-12-16T09:24:28.027931Z",
     "shell.execute_reply": "2022-12-16T09:24:28.027497Z"
    }
   },
   "outputs": [],
   "source": [
    "# drop setup data\n",
    "req_duration_data = req_duration_data[req_duration_data[\"group\"] != \"::setup\"]"
   ]
  },
  {
   "cell_type": "code",
   "execution_count": null,
   "metadata": {
    "execution": {
     "iopub.execute_input": "2022-12-16T09:24:28.030713Z",
     "iopub.status.busy": "2022-12-16T09:24:28.030279Z",
     "iopub.status.idle": "2022-12-16T09:24:28.032496Z",
     "shell.execute_reply": "2022-12-16T09:24:28.032137Z"
    }
   },
   "outputs": [],
   "source": [
    "# filter to only http2 data\n",
    "# req_duration_data = req_duration_data[req_duration_data[\"http_version\"] == 2]"
   ]
  },
  {
   "cell_type": "code",
   "execution_count": null,
   "metadata": {
    "execution": {
     "iopub.execute_input": "2022-12-16T09:24:28.034271Z",
     "iopub.status.busy": "2022-12-16T09:24:28.034015Z",
     "iopub.status.idle": "2022-12-16T09:24:28.153715Z",
     "shell.execute_reply": "2022-12-16T09:24:28.152172Z"
    }
   },
   "outputs": [],
   "source": [
    "data = req_duration_data.copy()\n",
    "parts = data[\"name\"].str.split(\"?\", expand=True).rename(columns={0: \"path\", 1: \"query\"})\n",
    "parts[\"path\"] = parts[\"path\"].str.lstrip(\"https://127.0.0.1:8000\")\n",
    "req_duration_data[\"path\"] = parts[\"path\"]\n",
    "if \"query\" in parts:\n",
    "    req_duration_data[\"query\"] = parts[\"query\"]\n",
    "else:\n",
    "    req_duration_data[\"query\"] = [None for _ in range(len(parts[\"path\"]))]"
   ]
  },
  {
   "cell_type": "code",
   "execution_count": null,
   "metadata": {
    "execution": {
     "iopub.execute_input": "2022-12-16T09:24:28.156824Z",
     "iopub.status.busy": "2022-12-16T09:24:28.156377Z",
     "iopub.status.idle": "2022-12-16T09:24:28.174328Z",
     "shell.execute_reply": "2022-12-16T09:24:28.173906Z"
    }
   },
   "outputs": [],
   "source": [
    "# normalise endpoints from path\n",
    "req_duration_data[\"endpoint\"] = req_duration_data[\"path\"].map(\n",
    "    lambda x: x.split(\"/\")[-1].lower().replace(\"_\", \"\")\n",
    ")"
   ]
  },
  {
   "cell_type": "code",
   "execution_count": null,
   "metadata": {
    "execution": {
     "iopub.execute_input": "2022-12-16T09:24:28.176845Z",
     "iopub.status.busy": "2022-12-16T09:24:28.176433Z",
     "iopub.status.idle": "2022-12-16T09:24:28.179254Z",
     "shell.execute_reply": "2022-12-16T09:24:28.178893Z"
    }
   },
   "outputs": [],
   "source": [
    "ignore_vars = [\n",
    "    \"metric_name\",\n",
    "    \"metric_value\",\n",
    "    \"service\",\n",
    "    \"subproto\",\n",
    "    \"proto\",\n",
    "    \"scenario\",\n",
    "    \"status\",\n",
    "    \"tls_version\",\n",
    "    \"url\",\n",
    "    \"name\",\n",
    "    \"extra_tags\",\n",
    "    \"metadata\",\n",
    "    \"check\",\n",
    "    \"error\",\n",
    "    \"error_code\",\n",
    "    \"expected_response\",\n",
    "    \"group\",\n",
    "    \"method\",\n",
    "    \"query\",\n",
    "    \"path\",\n",
    "    \"node_ips\",\n",
    "]"
   ]
  },
  {
   "cell_type": "code",
   "execution_count": null,
   "metadata": {
    "execution": {
     "iopub.execute_input": "2022-12-16T09:24:28.181006Z",
     "iopub.status.busy": "2022-12-16T09:24:28.180735Z",
     "iopub.status.idle": "2022-12-16T09:24:28.217637Z",
     "shell.execute_reply": "2022-12-16T09:24:28.216825Z"
    }
   },
   "outputs": [],
   "source": [
    "data = req_duration_data.copy()\n",
    "if len(data[\"query\"].dropna()) > 0:\n",
    "    var, invariant_vars = analysis.condense_vars(data, ignore_vars + [\"path\"])\n",
    "    data[\"vars\"] = var\n",
    "\n",
    "    txids = data[\"query\"].str.split(\"=\", expand=True)[1]\n",
    "    data[\"txids\"] = txids\n",
    "    txid_counts = data.groupby([\"txids\", \"vars\"]).size()\n",
    "    txid_counts = pd.DataFrame(txid_counts)\n",
    "    txid_counts.rename(columns={0: \"committed_count\"}, inplace=True)\n",
    "\n",
    "    ax = sns.displot(kind=\"ecdf\", data=txid_counts, x=\"committed_count\", hue=\"vars\")\n",
    "    ax.set(title=\"number of commit checks before committed\")\n",
    "    filename = f\"commit_checks_ecdf-committed_count-None-None-vars\"\n",
    "    ax.savefig(os.path.join(analyser.plot_dir(), f\"{filename}.jpg\"))"
   ]
  },
  {
   "cell_type": "code",
   "execution_count": null,
   "metadata": {
    "execution": {
     "iopub.execute_input": "2022-12-16T09:24:28.220464Z",
     "iopub.status.busy": "2022-12-16T09:24:28.220074Z",
     "iopub.status.idle": "2022-12-16T09:24:28.247933Z",
     "shell.execute_reply": "2022-12-16T09:24:28.247084Z"
    }
   },
   "outputs": [],
   "source": [
    "data = req_duration_data.copy()\n",
    "if len(data[\"query\"].dropna()) > 0:\n",
    "    var, invariant_vars = analysis.condense_vars(data, ignore_vars + [\"path\"])\n",
    "    data[\"vars\"] = var\n",
    "\n",
    "    grouped = data.groupby([\"path\", \"query\", \"vars\"])\n",
    "\n",
    "    starts = grouped.min(\"start_ms\")\n",
    "    ends = grouped.max(\"end_ms\")\n",
    "\n",
    "    commit_latency_ms = ends[\"end_ms\"] - starts[\"start_ms\"]\n",
    "\n",
    "    latencies = pd.DataFrame(commit_latency_ms)\n",
    "    latencies.rename(columns={0: \"commit_latency\"}, inplace=True)\n",
    "\n",
    "    ax = sns.displot(kind=\"ecdf\", data=latencies, x=\"commit_latency\", hue=\"vars\")\n",
    "    ax.set(title=\"commit latency\")\n",
    "    filename = f\"commit_latency_ecdf-commit_latency-None-None-vars\"\n",
    "    ax.savefig(os.path.join(analyser.plot_dir(), f\"{filename}.jpg\"))"
   ]
  },
  {
   "cell_type": "code",
   "execution_count": null,
   "metadata": {
    "execution": {
     "iopub.execute_input": "2022-12-16T09:24:28.250715Z",
     "iopub.status.busy": "2022-12-16T09:24:28.250312Z",
     "iopub.status.idle": "2022-12-16T09:24:28.252868Z",
     "shell.execute_reply": "2022-12-16T09:24:28.252117Z"
    }
   },
   "outputs": [],
   "source": [
    "# req_duration_data = req_duration_data[req_duration_data[\"rate\"] == 100]\n",
    "# req_duration_data = req_duration_data[req_duration_data[\"vus\"] == 10]\n",
    "# req_duration_data = req_duration_data[req_duration_data[\"func\"] == \"mixed_single\"]\n",
    "# req_duration_data.describe()"
   ]
  },
  {
   "cell_type": "code",
   "execution_count": null,
   "metadata": {
    "execution": {
     "iopub.execute_input": "2022-12-16T09:24:28.254697Z",
     "iopub.status.busy": "2022-12-16T09:24:28.254448Z",
     "iopub.status.idle": "2022-12-16T09:24:28.277930Z",
     "shell.execute_reply": "2022-12-16T09:24:28.277108Z"
    }
   },
   "outputs": [],
   "source": [
    "# skip the start and avoid high latency connection setups\n",
    "req_duration_data = req_duration_data[req_duration_data[\"start_ms\"] > 1000]"
   ]
  },
  {
   "cell_type": "code",
   "execution_count": null,
   "metadata": {
    "execution": {
     "iopub.execute_input": "2022-12-16T09:24:28.280777Z",
     "iopub.status.busy": "2022-12-16T09:24:28.280374Z",
     "iopub.status.idle": "2022-12-16T09:24:30.055032Z",
     "shell.execute_reply": "2022-12-16T09:24:30.054604Z"
    }
   },
   "outputs": [],
   "source": [
    "plot_data = req_duration_data.copy(deep=False)\n",
    "plot_data = plot_data[plot_data[\"content_type\"] == \"json\"]\n",
    "plot_data = plot_data[plot_data[\"rate\"] <= 200]\n",
    "plot_data = plot_data[plot_data[\"enclave\"] == \"virtual\"]\n",
    "p = analyser.plot_scatter(plot_data, col=\"http_version\", ignore_vars=ignore_vars)\n",
    "p.figure.suptitle(\"\")\n",
    "p.set(xlabel=\"start time (ms)\", ylabel=\"latency (ms)\")"
   ]
  },
  {
   "cell_type": "code",
   "execution_count": null,
   "metadata": {
    "execution": {
     "iopub.execute_input": "2022-12-16T09:24:30.058284Z",
     "iopub.status.busy": "2022-12-16T09:24:30.057872Z",
     "iopub.status.idle": "2022-12-16T09:24:30.679697Z",
     "shell.execute_reply": "2022-12-16T09:24:30.679253Z"
    }
   },
   "outputs": [],
   "source": [
    "plot_data = req_duration_data.copy(deep=False)\n",
    "plot_data = plot_data[plot_data[\"content_type\"] == \"json\"]\n",
    "plot_data = plot_data[plot_data[\"rate\"] <= 200]\n",
    "p = analyser.plot_ecdf(plot_data, col=\"endpoint\", ignore_vars=ignore_vars)\n",
    "p.figure.suptitle(\"\")\n",
    "p.set(xlabel=\"latency (ms)\")"
   ]
  },
  {
   "cell_type": "code",
   "execution_count": null,
   "metadata": {
    "execution": {
     "iopub.execute_input": "2022-12-16T09:24:30.681703Z",
     "iopub.status.busy": "2022-12-16T09:24:30.681538Z",
     "iopub.status.idle": "2022-12-16T09:24:31.390208Z",
     "shell.execute_reply": "2022-12-16T09:24:31.389776Z"
    }
   },
   "outputs": [],
   "source": [
    "plot_data = req_duration_data.copy(deep=False)\n",
    "p = analyser.plot_percentile_latency_over_time(\n",
    "    data, col=\"http_version\", ignore_vars=ignore_vars, percentile=0.99\n",
    ")\n",
    "p.figure.suptitle(\"\")\n",
    "p.set(xlabel=\"time (ms)\", ylabel=\"achieved throughput (req/s)\")"
   ]
  },
  {
   "cell_type": "code",
   "execution_count": null,
   "metadata": {
    "execution": {
     "iopub.execute_input": "2022-12-16T09:24:31.392750Z",
     "iopub.status.busy": "2022-12-16T09:24:31.392351Z",
     "iopub.status.idle": "2022-12-16T09:24:32.136509Z",
     "shell.execute_reply": "2022-12-16T09:24:32.136068Z"
    }
   },
   "outputs": [],
   "source": [
    "plot_data = req_duration_data.copy(deep=False)\n",
    "p = analyser.plot_throughput_over_time(\n",
    "    plot_data, col=\"http_version\", ignore_vars=ignore_vars, interval=1000\n",
    ")\n",
    "p.figure.suptitle(\"\")\n",
    "p.set(xlabel=\"time (ms)\", ylabel=\"achieved throughput (req/s)\")"
   ]
  },
  {
   "cell_type": "code",
   "execution_count": null,
   "metadata": {
    "execution": {
     "iopub.execute_input": "2022-12-16T09:24:32.138847Z",
     "iopub.status.busy": "2022-12-16T09:24:32.138668Z",
     "iopub.status.idle": "2022-12-16T09:24:32.605805Z",
     "shell.execute_reply": "2022-12-16T09:24:32.605377Z"
    }
   },
   "outputs": [],
   "source": [
    "plot_data = req_duration_data.copy(deep=False)\n",
    "plot_data = plot_data[plot_data[\"path\"] != \"app/tx\"]\n",
    "# plot_data = plot_data[plot_data[\"http_version\"] ==2]\n",
    "analyser.plot_achieved_throughput_bar(\n",
    "    plot_data, col=\"content_type\", ignore_vars=ignore_vars\n",
    ")"
   ]
  },
  {
   "cell_type": "code",
   "execution_count": null,
   "metadata": {
    "execution": {
     "iopub.execute_input": "2022-12-16T09:24:32.608064Z",
     "iopub.status.busy": "2022-12-16T09:24:32.607651Z",
     "iopub.status.idle": "2022-12-16T09:24:32.875898Z",
     "shell.execute_reply": "2022-12-16T09:24:32.875459Z"
    }
   },
   "outputs": [],
   "source": [
    "plot_data = req_duration_data.copy(deep=False)\n",
    "plot_data = plot_data[plot_data[\"http_version\"] == 1]\n",
    "plot_data = plot_data[plot_data[\"nodes\"] == 1]\n",
    "p = analyser.plot_throughput_bar(plot_data, ignore_vars=ignore_vars + [\"endpoint\"])\n",
    "p.figure.suptitle(\"\")\n",
    "p.set(xlabel=\"target throughput (req/s)\", ylabel=\"achieved throughput ratio\")"
   ]
  },
  {
   "cell_type": "code",
   "execution_count": null,
   "metadata": {
    "execution": {
     "iopub.execute_input": "2022-12-16T09:24:32.878080Z",
     "iopub.status.busy": "2022-12-16T09:24:32.877686Z",
     "iopub.status.idle": "2022-12-16T09:24:33.283558Z",
     "shell.execute_reply": "2022-12-16T09:24:33.283118Z"
    }
   },
   "outputs": [],
   "source": [
    "plot_data = req_duration_data.copy(deep=False)\n",
    "# plot_data = plot_data[plot_data[\"http_version\"] == 1]\n",
    "p = analyser.plot_throughput_bar(plot_data, ignore_vars=ignore_vars + [\"endpoint\"])\n",
    "p.figure.suptitle(\"\")\n",
    "p.set(xlabel=\"target throughput (req/s)\", ylabel=\"achieved throughput ratio\")"
   ]
  },
  {
   "cell_type": "code",
   "execution_count": null,
   "metadata": {
    "execution": {
     "iopub.execute_input": "2022-12-16T09:24:33.285942Z",
     "iopub.status.busy": "2022-12-16T09:24:33.285545Z",
     "iopub.status.idle": "2022-12-16T09:24:33.759772Z",
     "shell.execute_reply": "2022-12-16T09:24:33.759339Z"
    }
   },
   "outputs": [],
   "source": [
    "plot_data = req_duration_data.copy(deep=False)\n",
    "plot_data = plot_data[plot_data[\"path\"] != \"app/tx\"]\n",
    "plot_data = plot_data[plot_data[\"http_version\"] == 1]\n",
    "p = analyser.plot_target_throughput_latency_line(\n",
    "    plot_data, ignore_vars=ignore_vars + [\"endpoint\"]\n",
    ")\n",
    "p.figure.suptitle(\"\")"
   ]
  }
 ],
 "metadata": {
  "kernelspec": {
   "display_name": "Python 3.8.10 ('.venv': venv)",
   "language": "python",
   "name": "python3"
  },
  "language_info": {
   "codemirror_mode": {
    "name": "ipython",
    "version": 3
   },
   "file_extension": ".py",
   "mimetype": "text/x-python",
   "name": "python",
   "nbconvert_exporter": "python",
   "pygments_lexer": "ipython3",
   "version": "3.8.10"
  },
  "vscode": {
   "interpreter": {
    "hash": "4a93498aa965ac8ed639b230be16e07b1d0996cdf6d66355a89e4f9e95715a96"
   }
  }
 },
 "nbformat": 4,
 "nbformat_minor": 2
}
