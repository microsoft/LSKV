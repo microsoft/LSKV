{
 "cells": [
  {
   "cell_type": "code",
   "execution_count": null,
   "metadata": {},
   "outputs": [],
   "source": [
    "import pandas as pd\n",
    "import seaborn as sns\n",
    "import os\n",
    "import analysis"
   ]
  },
  {
   "cell_type": "code",
   "execution_count": null,
   "metadata": {},
   "outputs": [],
   "source": [
    "analyser = analysis.Analyser(\"k6\")\n",
    "all_data = analyser.get_data()\n",
    "all_data"
   ]
  },
  {
   "cell_type": "code",
   "execution_count": null,
   "metadata": {},
   "outputs": [],
   "source": [
    "req_duration_data = all_data[all_data[\"metric_name\"].isin([\"http_req_duration\", \"grpc_req_duration\"])]\n",
    "req_duration_data.columns"
   ]
  },
  {
   "cell_type": "code",
   "execution_count": null,
   "metadata": {},
   "outputs": [],
   "source": [
    "# drop setup data\n",
    "req_duration_data = req_duration_data[req_duration_data[\"group\"] != \"::setup\"]"
   ]
  },
  {
   "cell_type": "code",
   "execution_count": null,
   "metadata": {},
   "outputs": [],
   "source": [
    "# filter to only http2 data\n",
    "req_duration_data = req_duration_data[req_duration_data[\"http_version\"] == 2]"
   ]
  },
  {
   "cell_type": "code",
   "execution_count": null,
   "metadata": {},
   "outputs": [],
   "source": [
    "data = req_duration_data.copy()\n",
    "parts = data[\"name\"].str.split(\"?\", expand=True).rename(columns={0: \"path\", 1: \"query\"})\n",
    "parts[\"path\"] = parts[\"path\"].str.lstrip(\"https://127.0.0.1:8000\")\n",
    "req_duration_data[\"path\"] = parts[\"path\"]\n",
    "if \"query\" in parts:\n",
    "    req_duration_data[\"query\"] = parts[\"query\"]\n",
    "else:\n",
    "    req_duration_data[\"query\"] = [None for _ in range(len(parts[\"path\"]))]"
   ]
  },
  {
   "cell_type": "code",
   "execution_count": null,
   "metadata": {},
   "outputs": [],
   "source": [
    "# normalise endpoints from path\n",
    "req_duration_data[\"endpoint\"] = req_duration_data[\"path\"].map(lambda x: x.split(\"/\")[-1].lower().replace(\"_\",\"\"))"
   ]
  },
  {
   "cell_type": "code",
   "execution_count": null,
   "metadata": {},
   "outputs": [],
   "source": [
    "ignore_vars = [\n",
    "    \"metric_name\",\n",
    "    \"metric_value\",\n",
    "    \"service\",\n",
    "    \"subproto\",\n",
    "    \"proto\",\n",
    "    \"scenario\",\n",
    "    \"status\",\n",
    "    \"tls_version\",\n",
    "    \"url\",\n",
    "    \"name\",\n",
    "    \"extra_tags\",\n",
    "    \"metadata\",\n",
    "    \"check\",\n",
    "    \"error\",\n",
    "    \"error_code\",\n",
    "    \"expected_response\",\n",
    "    \"group\",\n",
    "    \"method\",\n",
    "    \"query\",\n",
    "    \"path\",\n",
    "]"
   ]
  },
  {
   "cell_type": "code",
   "execution_count": null,
   "metadata": {},
   "outputs": [],
   "source": [
    "data = req_duration_data.copy()\n",
    "if len(data[\"query\"].dropna()) > 0:\n",
    "    var, invariant_vars = analysis.condense_vars(data, ignore_vars + [\"path\"])\n",
    "    data[\"vars\"] = var\n",
    "\n",
    "    txids = data[\"query\"].str.split(\"=\", expand=True)[1]\n",
    "    data[\"txids\"] = txids\n",
    "    txid_counts = data.groupby([\"txids\", \"vars\"]).size()\n",
    "    txid_counts = pd.DataFrame(txid_counts)\n",
    "    txid_counts.rename(columns={0: \"committed_count\"}, inplace=True)\n",
    "\n",
    "    ax = sns.displot(kind=\"ecdf\", data=txid_counts, x=\"committed_count\", hue=\"vars\")\n",
    "    ax.set(title=\"number of commit checks before committed\")\n",
    "    filename = f\"commit_checks_ecdf-committed_count-None-None-vars\"\n",
    "    ax.savefig(os.path.join(analyser.plot_dir(), f\"{filename}.jpg\"))"
   ]
  },
  {
   "cell_type": "code",
   "execution_count": null,
   "metadata": {},
   "outputs": [],
   "source": [
    "data = req_duration_data.copy()\n",
    "if len(data[\"query\"].dropna()) > 0:\n",
    "    var, invariant_vars = analysis.condense_vars(data, ignore_vars + [\"path\"])\n",
    "    data[\"vars\"] = var\n",
    "\n",
    "    grouped = data.groupby([\"path\", \"query\", \"vars\"])\n",
    "\n",
    "    starts = grouped.min(\"start_ms\")\n",
    "    ends = grouped.max(\"end_ms\")\n",
    "\n",
    "    commit_latency_ms = ends[\"end_ms\"] - starts[\"start_ms\"]\n",
    "\n",
    "    latencies = pd.DataFrame(commit_latency_ms)\n",
    "    latencies.rename(columns={0: \"commit_latency\"}, inplace=True)\n",
    "\n",
    "    ax = sns.displot(kind=\"ecdf\", data=latencies, x=\"commit_latency\", hue=\"vars\")\n",
    "    ax.set(title=\"commit latency\")\n",
    "    filename = f\"commit_latency_ecdf-commit_latency-None-None-vars\"\n",
    "    ax.savefig(os.path.join(analyser.plot_dir(), f\"{filename}.jpg\"))"
   ]
  },
  {
   "cell_type": "code",
   "execution_count": null,
   "metadata": {},
   "outputs": [],
   "source": [
    "# req_duration_data = req_duration_data[req_duration_data[\"rate\"] == 100]\n",
    "req_duration_data = req_duration_data[req_duration_data[\"vus\"] == 10]\n",
    "req_duration_data = req_duration_data[req_duration_data[\"func\"] == \"mixed_single\"]\n",
    "req_duration_data.describe()"
   ]
  },
  {
   "cell_type": "code",
   "execution_count": null,
   "metadata": {},
   "outputs": [],
   "source": [
    "# skip the start and avoid high latency connection setups\n",
    "req_duration_data = req_duration_data[req_duration_data[\"start_ms\"] > 1000]"
   ]
  },
  {
   "cell_type": "code",
   "execution_count": null,
   "metadata": {},
   "outputs": [],
   "source": [
    "plot_data = req_duration_data.copy(deep=False)\n",
    "plot_data = plot_data[plot_data[\"path\"] != \"app/tx\"]\n",
    "# plot_data = plot_data[plot_data[\"rate\"] != 200]\n",
    "# plot_data = plot_data[plot_data[\"rate\"] != 500]\n",
    "# plot_data = plot_data[plot_data[\"rate\"] != 1000]\n",
    "plot_data = plot_data[plot_data[\"rate\"].isin(list(range(123,126)))]\n",
    "plot_data = plot_data[plot_data[\"content_type\"] == \"json\"]\n",
    "analyser.plot_scatter(plot_data, col=\"endpoint\", row=\"content_type\", ignore_vars=ignore_vars)"
   ]
  },
  {
   "cell_type": "code",
   "execution_count": null,
   "metadata": {},
   "outputs": [],
   "source": [
    "# plot with skipping start to avoid connection setup flurry\n",
    "plot_data = req_duration_data.copy(deep=False)\n",
    "plot_data = plot_data[plot_data[\"path\"] != \"app/tx\"]\n",
    "plot_data = plot_data[plot_data[\"rate\"] == 100]\n",
    "plot_data = plot_data[plot_data[\"start_ms\"] > 250]\n",
    "analyser.plot_scatter(plot_data, col=\"content_type\", ignore_vars=ignore_vars)"
   ]
  },
  {
   "cell_type": "code",
   "execution_count": null,
   "metadata": {},
   "outputs": [],
   "source": [
    "plot_data = req_duration_data.copy(deep=False)\n",
    "plot_data = plot_data[plot_data[\"path\"] != \"app/tx\"]\n",
    "plot_data = plot_data[plot_data[\"rate\"] == 200]\n",
    "plot_data = plot_data[plot_data[\"start_ms\"] > 250]\n",
    "analyser.plot_scatter(plot_data, col=\"content_type\",ignore_vars=ignore_vars)"
   ]
  },
  {
   "cell_type": "code",
   "execution_count": null,
   "metadata": {},
   "outputs": [],
   "source": [
    "plot_data = req_duration_data.copy(deep=False)\n",
    "plot_data = plot_data[plot_data[\"path\"] != \"app/tx\"]\n",
    "plot_data = plot_data[plot_data[\"rate\"] == 200]\n",
    "plot_data = plot_data[plot_data[\"start_ms\"] > 250]\n",
    "analyser.plot_scatter(plot_data, col=\"content_type\", ignore_vars=ignore_vars)"
   ]
  },
  {
   "cell_type": "code",
   "execution_count": null,
   "metadata": {},
   "outputs": [],
   "source": [
    "plot_data = req_duration_data.copy(deep=False)\n",
    "plot_data = plot_data[plot_data[\"path\"] != \"app/tx\"]\n",
    "plot_data = plot_data[plot_data[\"rate\"] != 200]\n",
    "plot_data = plot_data[plot_data[\"rate\"] != 500]\n",
    "plot_data = plot_data[plot_data[\"rate\"] != 1000]\n",
    "plot_data = plot_data[plot_data[\"rate\"] != 2000]\n",
    "analyser.plot_ecdf(plot_data, col=\"content_type\", ignore_vars=ignore_vars)"
   ]
  },
  {
   "cell_type": "code",
   "execution_count": null,
   "metadata": {},
   "outputs": [],
   "source": [
    "# plot with skipping start to avoid connection setup flurry\n",
    "plot_data = req_duration_data.copy(deep=False)\n",
    "plot_data = plot_data[plot_data[\"path\"] != \"app/tx\"]\n",
    "# plot_data = plot_data[plot_data[\"rate\"] !=200]\n",
    "plot_data = plot_data[plot_data[\"rate\"] != 500]\n",
    "plot_data = plot_data[plot_data[\"rate\"] != 1000]\n",
    "plot_data = plot_data[plot_data[\"rate\"] != 2000]\n",
    "plot_data = plot_data[plot_data[\"start_ms\"] > 250]\n",
    "analyser.plot_ecdf(plot_data, col=\"content_type\", ignore_vars=ignore_vars)"
   ]
  },
  {
   "cell_type": "code",
   "execution_count": null,
   "metadata": {},
   "outputs": [],
   "source": [
    "plot_data = req_duration_data.copy(deep=False)\n",
    "plot_data = plot_data[plot_data[\"path\"] != \"app/tx\"]\n",
    "# plot_data = plot_data[plot_data[\"http_version\"] ==2]\n",
    "analyser.plot_achieved_throughput_bar(\n",
    "    plot_data, col=\"content_type\", ignore_vars=ignore_vars\n",
    ")"
   ]
  },
  {
   "cell_type": "code",
   "execution_count": null,
   "metadata": {},
   "outputs": [],
   "source": [
    "plot_data = req_duration_data.copy(deep=False)\n",
    "plot_data = plot_data[plot_data[\"path\"] != \"app/tx\"]\n",
    "analyser.plot_throughput_bar(plot_data, col=\"content_type\", ignore_vars=ignore_vars)"
   ]
  },
  {
   "cell_type": "code",
   "execution_count": null,
   "metadata": {},
   "outputs": [],
   "source": [
    "plot_data = req_duration_data.copy(deep=False)\n",
    "plot_data = plot_data[plot_data[\"path\"] != \"app/tx\"]\n",
    "analyser.plot_target_throughput_latency_line(plot_data, ignore_vars=ignore_vars)"
   ]
  }
 ],
 "metadata": {
  "kernelspec": {
   "display_name": "Python 3.8.10 64-bit",
   "language": "python",
   "name": "python3"
  },
  "language_info": {
   "codemirror_mode": {
    "name": "ipython",
    "version": 3
   },
   "file_extension": ".py",
   "mimetype": "text/x-python",
   "name": "python",
   "nbconvert_exporter": "python",
   "pygments_lexer": "ipython3",
   "version": "3.8.10"
  },
  "vscode": {
   "interpreter": {
    "hash": "e7370f93d1d0cde622a1f8e1c04877d8463912d04d973331ad4851f04de6915a"
   }
  }
 },
 "nbformat": 4,
 "nbformat_minor": 2
}
