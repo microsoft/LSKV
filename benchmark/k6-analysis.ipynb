{
 "cells": [
  {
   "cell_type": "code",
   "execution_count": null,
   "metadata": {},
   "outputs": [],
   "source": [
    "import pandas as pd\n",
    "import seaborn as sns\n",
    "import os\n",
    "import analysis"
   ]
  },
  {
   "cell_type": "code",
   "execution_count": null,
   "metadata": {},
   "outputs": [],
   "source": [
    "analyser = analysis.Analyser(\"k6\")\n",
    "all_data = analyser.get_data()\n",
    "all_data"
   ]
  },
  {
   "cell_type": "code",
   "execution_count": null,
   "metadata": {},
   "outputs": [],
   "source": [
    "req_duration_data = all_data[all_data[\"metric_name\"] == \"http_req_duration\"]\n",
    "req_duration_data.columns"
   ]
  },
  {
   "cell_type": "code",
   "execution_count": null,
   "metadata": {},
   "outputs": [],
   "source": [
    "data = req_duration_data.copy()\n",
    "parts = data[\"name\"].str.split(\"?\", expand=True).rename(columns={0: \"path\", 1: \"query\"})\n",
    "parts[\"path\"] = parts[\"path\"].str.lstrip(\"https://127.0.0.1:8000\")\n",
    "req_duration_data[\"path\"] = parts[\"path\"]\n",
    "req_duration_data[\"query\"] = parts[\"query\"]"
   ]
  },
  {
   "cell_type": "code",
   "execution_count": null,
   "metadata": {},
   "outputs": [],
   "source": [
    "ignore_vars = [\n",
    "    \"metric_name\",\n",
    "    \"metric_value\",\n",
    "    \"service\",\n",
    "    \"subproto\",\n",
    "    \"proto\",\n",
    "    \"scenario\",\n",
    "    \"status\",\n",
    "    \"tls_version\",\n",
    "    \"url\",\n",
    "    \"name\",\n",
    "    \"extra_tags\",\n",
    "    \"metadata\",\n",
    "    \"check\",\n",
    "    \"error\",\n",
    "    \"error_code\",\n",
    "    \"expected_response\",\n",
    "    \"group\",\n",
    "    \"method\",\n",
    "    \"path\",\n",
    "    \"query\",\n",
    "]"
   ]
  },
  {
   "cell_type": "code",
   "execution_count": null,
   "metadata": {},
   "outputs": [],
   "source": [
    "data = req_duration_data.copy()\n",
    "\n",
    "var, invariant_vars = analysis.condense_vars(\n",
    "    data, ignore_vars\n",
    ")\n",
    "data[\"vars\"] = var\n",
    "\n",
    "txids = data[\"query\"].str.split(\"=\", expand=True)[1]\n",
    "data[\"txids\"]=txids\n",
    "txid_counts = data.groupby([\"txids\", \"vars\"]).size()\n",
    "txid_counts = pd.DataFrame(txid_counts)\n",
    "txid_counts.rename(columns={0:\"committed_count\"}, inplace=True)\n",
    "\n",
    "ax = sns.displot(kind=\"ecdf\", data=txid_counts, x=\"committed_count\", hue=\"vars\")\n",
    "ax.set(title=\"number of commit checks before committed\")\n",
    "filename = f\"commit_checks_ecdf-committed_count-None-None-vars\"\n",
    "ax.savefig(os.path.join(analyser.plot_dir(), f\"{filename}.png\"))"
   ]
  },
  {
   "cell_type": "code",
   "execution_count": null,
   "metadata": {},
   "outputs": [],
   "source": [
    "data = req_duration_data.copy()\n",
    "\n",
    "var, invariant_vars = analysis.condense_vars(\n",
    "    data, ignore_vars\n",
    ")\n",
    "data[\"vars\"] = var\n",
    "\n",
    "grouped = data.groupby([\"path\", \"query\", \"vars\"])\n",
    "\n",
    "starts = grouped.min(\"start_ms\")\n",
    "ends = grouped.max(\"end_ms\")\n",
    "\n",
    "commit_latency_ms = ends[\"end_ms\"]-starts[\"start_ms\"]\n",
    "\n",
    "latencies = pd.DataFrame(commit_latency_ms)\n",
    "latencies.rename(columns={0:\"commit_latency\"}, inplace=True)\n",
    "\n",
    "ax = sns.displot(kind=\"ecdf\", data=latencies, x=\"commit_latency\", hue=\"vars\")\n",
    "ax.set(title=\"commit latency\")\n",
    "filename = f\"commit_latency_ecdf-commit_latency-None-None-vars\"\n",
    "ax.savefig(os.path.join(analyser.plot_dir(), f\"{filename}.png\"))"
   ]
  },
  {
   "cell_type": "code",
   "execution_count": null,
   "metadata": {},
   "outputs": [],
   "source": [
    "plot_data = req_duration_data.copy(deep=False)\n",
    "plot_data = plot_data[plot_data[\"path\"] == \"v3/kv/put\"]\n",
    "analyser.plot_scatter(plot_data, col=\"nodes\", ignore_vars=ignore_vars)"
   ]
  },
  {
   "cell_type": "code",
   "execution_count": null,
   "metadata": {},
   "outputs": [],
   "source": [
    "plot_data = req_duration_data.copy(deep=False)\n",
    "analyser.plot_ecdf(plot_data, col=\"nodes\", ignore_vars=ignore_vars)"
   ]
  },
  {
   "cell_type": "code",
   "execution_count": null,
   "metadata": {},
   "outputs": [],
   "source": [
    "plot_data = req_duration_data.copy(deep=False)\n",
    "analyser.plot_achieved_throughput_bar(plot_data, col=\"nodes\", ignore_vars=ignore_vars)"
   ]
  },
  {
   "cell_type": "code",
   "execution_count": null,
   "metadata": {},
   "outputs": [],
   "source": [
    "plot_data = req_duration_data.copy(deep=False)\n",
    "analyser.plot_throughput_bar(plot_data, col=\"nodes\", ignore_vars=ignore_vars)"
   ]
  },
  {
   "cell_type": "code",
   "execution_count": null,
   "metadata": {},
   "outputs": [],
   "source": [
    "plot_data = req_duration_data.copy(deep=False)\n",
    "analyser.plot_target_throughput_latency_line(\n",
    "    plot_data, col=\"nodes\", ignore_vars=ignore_vars\n",
    ")"
   ]
  }
 ],
 "metadata": {
  "kernelspec": {
   "display_name": "Python 3.8.10 ('.venv': venv)",
   "language": "python",
   "name": "python3"
  },
  "language_info": {
   "codemirror_mode": {
    "name": "ipython",
    "version": 3
   },
   "file_extension": ".py",
   "mimetype": "text/x-python",
   "name": "python",
   "nbconvert_exporter": "python",
   "pygments_lexer": "ipython3",
   "version": "3.8.10"
  },
  "vscode": {
   "interpreter": {
    "hash": "4db87498792d854cc0710846eefabcd930f66afdd24de6bbdfbeb8967a3823b4"
   }
  }
 },
 "nbformat": 4,
 "nbformat_minor": 2
}
