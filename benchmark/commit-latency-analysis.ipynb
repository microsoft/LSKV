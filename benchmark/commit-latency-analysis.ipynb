{
 "cells": [
  {
   "cell_type": "code",
   "execution_count": null,
   "metadata": {},
   "outputs": [],
   "source": [
    "import json\n",
    "import os\n",
    "import matplotlib.pyplot as plt"
   ]
  },
  {
   "cell_type": "code",
   "execution_count": null,
   "metadata": {},
   "outputs": [],
   "source": [
    "bench_dir = \"../bench/k6\"\n",
    "\n",
    "for d in os.listdir(bench_dir):\n",
    "    log_file = os.path.join(bench_dir, d, \"console.log\")\n",
    "    config_file = os.path.join(bench_dir, d, \"config.json\")\n",
    "    with open(config_file, \"r\") as f:\n",
    "        config = json.loads(f.read())\n",
    "\n",
    "    if \"receipt\" in config[\"func\"]:\n",
    "        continue\n",
    "    if config[\"enclave\"] != \"sgx\":\n",
    "        continue\n",
    "    if config[\"http_version\"] != 2:\n",
    "        continue\n",
    "    if len(config[\"nodes\"]) != 1:\n",
    "        continue\n",
    "    if config[\"content_type\"] != \"grpc\":\n",
    "        continue\n",
    "\n",
    "    print(config)\n",
    "\n",
    "    print(log_file)\n",
    "    with open(log_file, \"r\") as f:\n",
    "\n",
    "        times = []\n",
    "        cterms = []\n",
    "        crevs = []\n",
    "        terms = []\n",
    "        revs = []\n",
    "\n",
    "        for line in f.readlines():\n",
    "            line = line.strip()\n",
    "            line = json.loads(line)\n",
    "            time = line[\"time\"]\n",
    "            method = line[\"method\"]\n",
    "            if \"header\" not in line[\"res\"]:\n",
    "                continue\n",
    "            cterm = int(line[\"res\"][\"header\"][\"committedRaftTerm\"])\n",
    "            crev = int(line[\"res\"][\"header\"][\"committedRevision\"])\n",
    "            term = int(line[\"res\"][\"header\"][\"raftTerm\"])\n",
    "            rev = int(line[\"res\"][\"header\"][\"revision\"])\n",
    "            # print(method, cterm, crev, term, rev)\n",
    "            times.append(time)\n",
    "            cterms.append(cterm)\n",
    "            crevs.append(crev)\n",
    "            terms.append(term)\n",
    "            revs.append(rev)\n",
    "\n",
    "        start = min(times)\n",
    "        times = [t - start for t in times]"
   ]
  },
  {
   "cell_type": "code",
   "execution_count": null,
   "metadata": {},
   "outputs": [],
   "source": [
    "fig1 = plt.figure(figsize=(6, 2))\n",
    "\n",
    "times_s = [t / 1000 for t in times]\n",
    "\n",
    "ax1 = fig1.add_subplot(111)\n",
    "ax1.plot(times_s, revs, label=\"Latest\")\n",
    "ax1.plot(times_s, crevs, label=\"Committed\")\n",
    "ax1.set_xlabel(\"Time (s)\")\n",
    "ax1.set_ylabel(\"Revision\")\n",
    "ax1.legend()\n",
    "plt.tight_layout()\n",
    "\n",
    "x = []\n",
    "y1 = []\n",
    "y2 = []\n",
    "\n",
    "for (t, r, c) in zip(times_s, revs, crevs):\n",
    "    if 30 <= t <= 33:\n",
    "        x.append(t)\n",
    "        y1.append(r)\n",
    "        y2.append(c)\n",
    "\n",
    "ax2 = plt.axes([0.75, 0.45, 0.2, 0.25])\n",
    "ax2.plot(x, y1)\n",
    "ax2.plot(x, y2)\n",
    "\n",
    "plt.savefig(\"../plots/k6/final-commit-latency.pdf\")"
   ]
  }
 ],
 "metadata": {
  "kernelspec": {
   "display_name": "Python 3.8.10 ('.venv': venv)",
   "language": "python",
   "name": "python3"
  },
  "language_info": {
   "codemirror_mode": {
    "name": "ipython",
    "version": 3
   },
   "file_extension": ".py",
   "mimetype": "text/x-python",
   "name": "python",
   "nbconvert_exporter": "python",
   "pygments_lexer": "ipython3",
   "version": "3.8.10"
  },
  "vscode": {
   "interpreter": {
    "hash": "4a93498aa965ac8ed639b230be16e07b1d0996cdf6d66355a89e4f9e95715a96"
   }
  }
 },
 "nbformat": 4,
 "nbformat_minor": 2
}
