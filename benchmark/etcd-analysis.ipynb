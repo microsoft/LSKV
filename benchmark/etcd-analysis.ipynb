{
 "cells": [
  {
   "cell_type": "code",
   "execution_count": null,
   "id": "386f259a",
   "metadata": {
    "execution": {
     "iopub.execute_input": "2022-10-18T15:29:46.082399Z",
     "iopub.status.busy": "2022-10-18T15:29:46.081875Z",
     "iopub.status.idle": "2022-10-18T15:29:46.697360Z",
     "shell.execute_reply": "2022-10-18T15:29:46.696711Z"
    }
   },
   "outputs": [],
   "source": [
    "import pandas as pd\n",
    "import seaborn as sns\n",
    "import os\n",
    "import analysis"
   ]
  },
  {
   "cell_type": "code",
   "execution_count": null,
   "id": "a76eeb76",
   "metadata": {},
   "outputs": [],
   "source": [
    "analyser = analysis.Analyser(\"etcd\")\n",
    "all_data = analyser.get_data()\n",
    "all_data"
   ]
  },
  {
   "cell_type": "code",
   "execution_count": null,
   "id": "d62e67d7",
   "metadata": {
    "execution": {
     "iopub.execute_input": "2022-10-18T15:29:46.737868Z",
     "iopub.status.busy": "2022-10-18T15:29:46.737408Z",
     "iopub.status.idle": "2022-10-18T15:29:46.744962Z",
     "shell.execute_reply": "2022-10-18T15:29:46.744560Z"
    }
   },
   "outputs": [],
   "source": [
    "all_data[all_data.latency_ms < 0]"
   ]
  },
  {
   "cell_type": "code",
   "execution_count": null,
   "id": "a2da46f1",
   "metadata": {
    "execution": {
     "iopub.execute_input": "2022-10-18T15:29:46.747087Z",
     "iopub.status.busy": "2022-10-18T15:29:46.746780Z",
     "iopub.status.idle": "2022-10-18T15:29:46.752023Z",
     "shell.execute_reply": "2022-10-18T15:29:46.751616Z"
    }
   },
   "outputs": [],
   "source": [
    "all_data = all_data[all_data.latency_ms >= 0]"
   ]
  },
  {
   "cell_type": "code",
   "execution_count": null,
   "id": "d9d6b524",
   "metadata": {
    "execution": {
     "iopub.execute_input": "2022-10-18T15:29:46.766760Z",
     "iopub.status.busy": "2022-10-18T15:29:46.766428Z",
     "iopub.status.idle": "2022-10-18T15:29:46.777711Z",
     "shell.execute_reply": "2022-10-18T15:29:46.777284Z"
    }
   },
   "outputs": [],
   "source": [
    "all_data"
   ]
  },
  {
   "cell_type": "code",
   "execution_count": null,
   "id": "850cd973",
   "metadata": {},
   "outputs": [],
   "source": [
    "ignore_vars = [\"ledger_chunk_bytes\", \"snapshot_tx_interval\"]"
   ]
  },
  {
   "cell_type": "code",
   "execution_count": null,
   "id": "9cbbe238",
   "metadata": {},
   "outputs": [],
   "source": [
    "plot_data = all_data.copy(deep=False)\n",
    "\n",
    "p = analyser.plot_scatter(plot_data, col=\"nodes\", ignore_vars=ignore_vars)"
   ]
  },
  {
   "cell_type": "code",
   "execution_count": null,
   "id": "df402edd",
   "metadata": {
    "execution": {
     "iopub.execute_input": "2022-10-18T15:29:49.262360Z",
     "iopub.status.busy": "2022-10-18T15:29:49.261986Z",
     "iopub.status.idle": "2022-10-18T15:29:49.727868Z",
     "shell.execute_reply": "2022-10-18T15:29:49.727422Z"
    }
   },
   "outputs": [],
   "source": [
    "plot_data = all_data.copy(deep=False)\n",
    "\n",
    "p = analyser.plot_ecdf(plot_data, col=\"nodes\", ignore_vars=ignore_vars)"
   ]
  },
  {
   "cell_type": "code",
   "execution_count": null,
   "id": "e4d16042",
   "metadata": {},
   "outputs": [],
   "source": [
    "plot_data = all_data.copy(deep=False)\n",
    "\n",
    "analyser.plot_achieved_throughput_bar(plot_data, col=\"nodes\", ignore_vars=ignore_vars)"
   ]
  },
  {
   "cell_type": "code",
   "execution_count": null,
   "id": "355b55d2",
   "metadata": {
    "execution": {
     "iopub.execute_input": "2022-10-18T15:29:49.730498Z",
     "iopub.status.busy": "2022-10-18T15:29:49.730132Z",
     "iopub.status.idle": "2022-10-18T15:29:50.097606Z",
     "shell.execute_reply": "2022-10-18T15:29:50.097135Z"
    }
   },
   "outputs": [],
   "source": [
    "plot_data = all_data.copy(deep=False)\n",
    "\n",
    "analyser.plot_throughput_bar(plot_data, col=\"nodes\", ignore_vars=ignore_vars)"
   ]
  }
 ],
 "metadata": {
  "kernelspec": {
   "display_name": "Python 3.8.10 ('.venv': venv)",
   "language": "python",
   "name": "python3"
  },
  "language_info": {
   "codemirror_mode": {
    "name": "ipython",
    "version": 3
   },
   "file_extension": ".py",
   "mimetype": "text/x-python",
   "name": "python",
   "nbconvert_exporter": "python",
   "pygments_lexer": "ipython3",
   "version": "3.8.10"
  },
  "vscode": {
   "interpreter": {
    "hash": "4db87498792d854cc0710846eefabcd930f66afdd24de6bbdfbeb8967a3823b4"
   }
  }
 },
 "nbformat": 4,
 "nbformat_minor": 5
}
